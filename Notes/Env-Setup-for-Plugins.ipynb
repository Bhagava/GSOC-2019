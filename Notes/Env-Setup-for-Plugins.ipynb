{
 "cells": [
  {
   "cell_type": "markdown",
   "metadata": {},
   "source": [
    "This Notebook will contain all the details and step wise instructions that will help you get started to develop your own plugins for ImageJ."
   ]
  },
  {
   "cell_type": "markdown",
   "metadata": {},
   "source": [
    "## STEPS:\n",
    "\n",
    "1.[Download ImageJ](https://imagej.net/Fiji/Downloads) to your System. Please look into [Troubleshooting](https://imagej.net/Fiji/Downloads#Troubleshooting) if you are facing any errors.\n",
    "\n",
    "\n",
    "2.The plugins have been developed in [Intellij](https://www.jetbrains.com/idea/download). Please refer to this [Hello World](https://www.jetbrains.com/help/idea/creating-and-running-your-first-java-application.html) example to get started with IntelliJ. If you are well versed with [Eclipse](https://www.eclipse.org/downloads/), then you can go with it. It has [good support and documentation](https://imagej.net/Developing_ImageJ_in_Eclipse) for developing ImageJ plugins. \n",
    "\n",
    "\n",
    "3.*Maven* is a tool which manages dependencies of your project and will also build it. IntelliJ will have Maven inside it. Basically, when you write a Java application, you would want to \"mavenize\" it(generate a `POM.xml` file and move source files to src/main/java) before packaging it into a JAR (Java ARchive) file. If you love command line workflow, Install [Apache Maven](https://www.javahelps.com/2017/10/install-apache-maven-on-linux.html) (Linux). *Please be careful with step 4 of this tutorial for installing Maven*.\n",
    "\n",
    "\n",
    "4.Download the [example-imagej-command](https://github.com/imagej/example-imagej-command). This is a maven project (see the `POM.xml` file) which takes in an image and applies Gaussian blur on that image. This can be used as a template. You can replace the `GaussFiltering.java` with your java code and also make respective changes to the `POM.xml` file. Once you are done with that you can generate the JAR file and place it in the plugins folder of `Fiji.app`."
   ]
  },
  {
   "cell_type": "markdown",
   "metadata": {},
   "source": [
    "\n",
    "### Complete Environment and Versions:\n",
    "\n",
    "1. **OS**: Linux 16.04 LTS\n",
    "\n",
    "2. \t**Intellij** : \n",
    "\n",
    "\t```\n",
    "\tIntelliJ IDEA 2019.1.1 (Community Edition)\n",
    "\tBuild #IC-191.6707.61, built on April 16, 2019\n",
    "\tJRE: 1.8.0_202-release-1483-b44 amd64\n",
    "\tJVM: OpenJDK 64-Bit Server VM by JetBrains s.r.o\n",
    "\tLinux 4.15.0-47-generic\n",
    "```\n",
    "3. **Java** : java-8-openjdk-amd64\n"
   ]
  },
  {
   "cell_type": "markdown",
   "metadata": {},
   "source": [
    "#### Note \n",
    "\n",
    "The plugins present in this repository are developed by following the above steps.\n"
   ]
  },
  {
   "cell_type": "code",
   "execution_count": null,
   "metadata": {},
   "outputs": [],
   "source": []
  }
 ],
 "metadata": {
  "kernelspec": {
   "display_name": "Python 3",
   "language": "python",
   "name": "python3"
  },
  "language_info": {
   "codemirror_mode": {
    "name": "ipython",
    "version": 3
   },
   "file_extension": ".py",
   "mimetype": "text/x-python",
   "name": "python",
   "nbconvert_exporter": "python",
   "pygments_lexer": "ipython3",
   "version": "3.5.2"
  }
 },
 "nbformat": 4,
 "nbformat_minor": 2
}
