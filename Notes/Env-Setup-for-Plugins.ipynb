{
 "cells": [
  {
   "cell_type": "markdown",
   "metadata": {},
   "source": [
    "This Notebook will contain all the details and step wise instructions that will help you get started to develop your own plugins for ImageJ."
   ]
  },
  {
   "cell_type": "markdown",
   "metadata": {},
   "source": [
    "## STEPS:\n",
    "\n",
    "1.[Download ImageJ](https://imagej.net/Fiji/Downloads) to your System. Please look into [Troubleshooting](https://imagej.net/Fiji/Downloads#Troubleshooting) if you are facing any errors.\n",
    "\n",
    "\n",
    "2.The plugins have been developed in [Eclipse](https://www.eclipse.org/downloads/). Install Eclipse by folowwing this [tutorial](https://websiteforstudents.com/how-to-install-eclipse-oxygen-ide-on-ubuntu-167-04-17-10-18-04/). It has [good support and documentation](https://imagej.net/Developing_ImageJ_in_Eclipse) for developing plugis for ImageJ. If you are well versed with [Intellij](https://www.jetbrains.com/idea/download) or just wantto try it out, then you can go with it. Please refer to this [Hello World](https://www.jetbrains.com/help/idea/creating-and-running-your-first-java-application.html) example to get started with IntelliJ.\n",
    "\n",
    "\n",
    "3.*Maven* is a tool which manages dependencies of your project and will also build it. Eclipse will have Maven inside it. Basically, when you write a Java application, you would want to \"mavenize\" it(generate a `POM.xml` file and move source files to src/main/java) before packaging it into a JAR (Java ARchive) file. If you love command line workflow, Install [Apache Maven](https://www.javahelps.com/2017/10/install-apache-maven-on-linux.html) (Linux). *Please be careful with step 4 of this tutorial for installing Maven*.\n",
    "\n",
    "4.Download the [example-legacy-plugin](https://github.com/imagej/example-legacy-plugin). This is a maven project (see the `POM.xml` file) which takes in an image and processes the pixels on that image. This can be used as a template. You can replace the `Process_Pixels.java` with your java code and also make respective changes to the `POM.xml` file. Once you are done with that you can generate the JAR file and place it in the plugins folder of `Fiji.app`.\n",
    "\n",
    "5.Follow this simple [video tutorial](https://www.youtube.com/watch?v=YIWpoBnnLio). This [example-imagej-command](https://github.com/imagej/example-imagej-command) has been used this video. It's okay to go woth either of example templates. Once you follow the steps in this video you will find the plugin under `Plugins`. If you use `example-legacy-plugin`, you will find it under `Process` menu tab. This is because of the `plugins.config` file under `src/main/resources`."
   ]
  },
  {
   "cell_type": "markdown",
   "metadata": {},
   "source": [
    "## Adding Jython Scripts to ImageJ plugins\n",
    "\n",
    "\n",
    "Now you would have gotten a hold of the basic workflow for developing plugins for ImageJ. Now let us try adding python scripts to the plugin with the help of [ImageJ's siupport to scripting](https://imagej.net/Scripting).\n",
    "\n",
    "1. You can write down your Jython code as a `.py` file and place it in `src/main/resources` folder.\n",
    "2. This is how you integrate the python script you need to your plugin.\n",
    "\n",
    "```\n",
    "    PythonInterpreter py = new PythonInterpreter();\n",
    "\tpy.execfile(\"path to your python file.\");\n",
    "```\n",
    "add this above code to `run` method in the `Process_Pixels.java` file.\n",
    "\n",
    "```\n",
    "    from ij import IJ\n",
    "    IJ.showMessage(\"Hello World\")\n",
    "```\n",
    "put this code in your python file.\n",
    "\n",
    "3. Especially when you are editing the code, you will need Jython on your systrem. [Download the standalone .jar file](https://www.jython.org/downloads.html) to your system.\n",
    "\n",
    "4. Open Eclipse, right click on root folder of your project. Select `Build Path> Add External Archives` and select the jython jar file that you have downloaded. You will be able to see it under `Referenced Libraries` in your project structure.\n",
    "\n",
    "<img src= "https://github.com/devoworm/GSOC-2019/blob/master/Demo%20images/project_structure.png">\n",
    "\n",
    "5. Then you can build the project with maven and you will find a new version of jar file of your project under `target` folder. Put it in the plugins folder of `FIJI` and restart it. Open Fiji and click on You should be able to see a dialog box saying \"Hello World\" like in the below image\n",
    "\n",
    "\n",
    "#### NOTE: This section still need updates. "
   ]
  },
  {
   "cell_type": "markdown",
   "metadata": {},
   "source": [
    "\n",
    "### Complete Environment and Versions:\n",
    "\n",
    "1. **OS**: Linux 16.04 LTS\n",
    "\n",
    "2. \t**Eclipse** : \n",
    "\n",
    "``` \n",
    "    Eclipse IDE for Java Developers\n",
    "    Version: 2019-03 (4.11.0)\n",
    "    Build id: 20190314-1200\n",
    "```\n",
    "3. **Java** : java-8-openjdk-amd64\n"
   ]
  },
  {
   "cell_type": "markdown",
   "metadata": {},
   "source": [
    "#### Note \n",
    "\n",
    "The plugins present in this repository are developed by following the above steps.\n"
   ]
  }
 ],
 "metadata": {
  "kernelspec": {
   "display_name": "Python 3",
   "language": "python",
   "name": "python3"
  },
  "language_info": {
   "codemirror_mode": {
    "name": "ipython",
    "version": 3
   },
   "file_extension": ".py",
   "mimetype": "text/x-python",
   "name": "python",
   "nbconvert_exporter": "python",
   "pygments_lexer": "ipython3",
   "version": "3.5.2"
  }
 },
 "nbformat": 4,
 "nbformat_minor": 2
}
