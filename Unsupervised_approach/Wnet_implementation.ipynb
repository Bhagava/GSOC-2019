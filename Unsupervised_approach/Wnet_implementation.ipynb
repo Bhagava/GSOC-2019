{
 "cells": [
  {
   "cell_type": "code",
   "execution_count": 1,
   "metadata": {},
   "outputs": [],
   "source": [
    "# import modules\n",
    "from datetime import datetime\n",
    "import tensorflow as tf\n",
    "import numpy as np\n",
    "import matplotlib.pyplot as plt\n",
    "from tensorflow.keras.layers import Input\n",
    "from tensorflow.keras.layers import Conv2D, SeparableConv2D, Conv2DTranspose\n",
    "from tensorflow.keras.layers import MaxPooling2D\n",
    "from tensorflow.keras.layers import Dropout\n",
    "from tensorflow.keras.layers import Activation\n",
    "from tensorflow.keras.layers import Reshape\n",
    "from tensorflow.keras.layers import Permute\n",
    "from tensorflow.keras.layers import BatchNormalization\n",
    "from tensorflow.keras.layers import Concatenate\n",
    "from tensorflow.keras.layers import Lambda\n",
    "from tensorflow.keras.models import Model"
   ]
  },
  {
   "cell_type": "code",
   "execution_count": 2,
   "metadata": {},
   "outputs": [
    {
     "name": "stdout",
     "output_type": "stream",
     "text": [
      "Number of train images: 1140 Shape of X_train: (1140, 224, 224, 1)\n",
      "Number of val images: 100 Shape of X_val: (100, 224, 224, 1)\n"
     ]
    }
   ],
   "source": [
    "#Pre-process images\n",
    "import os\n",
    "import cv2\n",
    "import matplotlib.pyplot as plt\n",
    "\n",
    "train_path = '../input/wnet-data-large/data_large/Data_Large/train/'\n",
    "val_path = '../input/wnetdataset/data/Data/val/'\n",
    "\n",
    "train_images = os.listdir(train_path)\n",
    "val_images = os.listdir(val_path)\n",
    "\n",
    "X_train = []\n",
    "X_val = []\n",
    "\n",
    "# Prepare X_train\n",
    "\n",
    "for i in range(len(train_images)):\n",
    "    img = cv2.imread(train_path+train_images[i]) #read all images\n",
    "    img = cv2.cvtColor(img,cv2.COLOR_BGR2GRAY) # Convert images to Grayscale\n",
    "    resized = cv2.resize(img, (224,224), interpolation = cv2.INTER_AREA) #Resize image to (224, 224)\n",
    "    X_train.append(resized) # append to list\n",
    "    \n",
    "X_train = np.asarray(X_train) #convert to numpy array\n",
    "X_train = X_train.astype('float32')/255. # Standardizing the data\n",
    "X_train = np.reshape(X_train, (len(X_train), 224, 224, 1)) #reshape it to (1140, 224, 224, 1) for feeding to model\n",
    "\n",
    "#Prepare X_val\n",
    "\n",
    "for i in range(len(val_images)):\n",
    "    img = cv2.imread(val_path+val_images[i]) #read all images\n",
    "    img = cv2.cvtColor(img,cv2.COLOR_BGR2GRAY)  # Convert images to Grayscale\n",
    "    resized = cv2.resize(img, (224,224), interpolation = cv2.INTER_AREA) #Resize image to (224, 224)\n",
    "    X_val.append(resized) # append to list\n",
    "    \n",
    "X_val = np.asarray(X_val) #convert to numpy array\n",
    "X_val = X_val.astype('float32')/255. # Standardizing the data\n",
    "X_val = np.reshape(X_val, (len(X_val), 224, 224, 1)) #reshape it to (100, 224, 224, 1) fro feeding to model\n",
    "\n",
    "print(\"Number of train images:\",len(X_train), \"Shape of X_train:\", X_train.shape)\n",
    "print(\"Number of val images:\",len(X_val), \"Shape of X_val:\", X_val.shape)\n"
   ]
  },
  {
   "cell_type": "code",
   "execution_count": null,
   "metadata": {},
   "outputs": [],
   "source": [
    "# Shuffle X_train and X_val\n",
    "np.random.shuffle(X_train)\n",
    "np.random.shuffle(X_val)"
   ]
  },
  {
   "cell_type": "code",
   "execution_count": 16,
   "metadata": {},
   "outputs": [
    {
     "data": {
      "text/plain": [
       "14"
      ]
     },
     "execution_count": 16,
     "metadata": {},
     "output_type": "execute_result"
    }
   ],
   "source": [
    "#Parameters\n",
    "input_img = Input(shape=(224, 224, 1)) #input image shape\n",
    "droprate=0.2 #rate for dropout layers\n",
    "droprate_input = 0.8 #rate for input layers (not used)\n",
    "num_classes = 3 #background, cell boundary, cell.\n",
    "num_epochs = 10 \n",
    "ae_lr = 0.001 #learning rate for auto_encoder which outputs the reconstruction of the original image.\n",
    "enc_lr = 0.001 #learning rate for encoder from which outputs the segmentation of the original image.\n",
    "num_batches = 80\n",
    "batch_size = len(X_train)//num_batches\n",
    "batch_size"
   ]
  },
  {
   "cell_type": "code",
   "execution_count": 17,
   "metadata": {},
   "outputs": [],
   "source": [
    "#Concatination layer for skip connections in the network\n",
    "def upconv_concat(bottom_a, bottom_b, n_filter, pool_size, stride, padding='VALID'):\n",
    "    up_conv = Conv2DTranspose(filters=n_filter, kernel_size=[pool_size, pool_size],\n",
    "                                         strides=stride, padding=padding)(bottom_a)\n",
    "    return Concatenate(axis=-1)([up_conv, bottom_b])\n"
   ]
  },
  {
   "cell_type": "code",
   "execution_count": 18,
   "metadata": {
    "scrolled": true
   },
   "outputs": [],
   "source": [
    "#Encoder\n",
    "\n",
    "# To view the model architecture, view the paper: https://arxiv.org/pdf/1711.08506.pdf\n",
    "#Module 1\n",
    "conv_1_1 = Conv2D(filters = 64, kernel_size = 3, activation='relu', padding='same')(input_img)\n",
    "conv_1_1_bn = BatchNormalization()(conv_1_1)\n",
    "conv_1_1_do = Dropout(droprate)(conv_1_1_bn)\n",
    "\n",
    "conv_1_2 = Conv2D(filters = 64, kernel_size = 3, activation='relu', padding='same')(conv_1_1_do)\n",
    "conv_1_2_bn = BatchNormalization()(conv_1_2)\n",
    "conv_1_2_do = Dropout(droprate)(conv_1_2_bn)\n",
    "\n",
    "pool_1 = MaxPooling2D(pool_size= 2, strides = 2)(conv_1_2_do) #Module 1 to Module 2\n",
    "\n",
    "#Module 2\n",
    "\n",
    "conv_2_1 = SeparableConv2D(filters = 128, kernel_size = 3, activation='relu', padding='same')(pool_1)\n",
    "conv_2_1_bn = BatchNormalization()(conv_2_1)\n",
    "conv_2_1_do = Dropout(droprate)(conv_2_1_bn)\n",
    "\n",
    "conv_2_2 = SeparableConv2D(filters = 128, kernel_size = 3, activation='relu', padding='same')(conv_2_1_do)\n",
    "conv_2_2_bn = BatchNormalization()(conv_2_2)\n",
    "conv_2_2_do = Dropout(droprate)(conv_2_2_bn)\n",
    "\n",
    "pool_2 = MaxPooling2D(pool_size= 2, strides = 2)(conv_2_2_do) #Module 2 to Module 3\n",
    "\n",
    "#Module 3\n",
    "\n",
    "conv_3_1 = SeparableConv2D(filters = 256, kernel_size = 3, activation='relu', padding='same')(pool_2)\n",
    "conv_3_1_bn = BatchNormalization()(conv_3_1)\n",
    "conv_3_1_do = Dropout(droprate)(conv_3_1_bn)\n",
    "\n",
    "conv_3_2 = SeparableConv2D(filters = 256, kernel_size = 3, activation='relu', padding='same')(conv_3_1_do)\n",
    "conv_3_2_bn = BatchNormalization()(conv_3_2)\n",
    "conv_3_2_do = Dropout(droprate)(conv_3_2_bn)\n",
    "\n",
    "pool_3 = MaxPooling2D(pool_size= 2, strides = 2)(conv_3_2_do) #Module 3 to Module 4\n",
    "\n",
    "#Module 4\n",
    "\n",
    "conv_4_1 = SeparableConv2D(filters = 512, kernel_size = 3, activation='relu', padding='same')(pool_3)\n",
    "conv_4_1_bn = BatchNormalization()(conv_4_1)\n",
    "conv_4_1_do = Dropout(droprate)(conv_4_1_bn)\n",
    "\n",
    "conv_4_2 = SeparableConv2D(filters = 512, kernel_size = 3, activation='relu', padding='same')(conv_4_1_do)\n",
    "conv_4_2_bn = BatchNormalization()(conv_4_2)\n",
    "conv_4_2_do = Dropout(droprate)(conv_4_2_bn)\n",
    "\n",
    "pool_4 = MaxPooling2D(pool_size= 2, strides = 2)(conv_4_2_do) #Module 4 to Module 5\n",
    "\n",
    "#Module 5\n",
    "\n",
    "conv_5_1 = SeparableConv2D(filters = 1024, kernel_size = 3, activation='relu', padding='same')(pool_4)\n",
    "conv_5_1_bn = BatchNormalization()(conv_5_1)\n",
    "conv_5_1_do = Dropout(droprate)(conv_5_1_bn)\n",
    "\n",
    "conv_5_2 = SeparableConv2D(filters = 1024, kernel_size = 3, activation='relu', padding='same')(conv_5_1_do)\n",
    "conv_5_2_bn = BatchNormalization()(conv_5_2)\n",
    "conv_5_2_do = Dropout(droprate)(conv_5_2_bn)\n",
    "\n",
    "upconv_1 = upconv_concat(conv_5_2_do, conv_4_2_do, n_filter=512, pool_size=2, stride=2) #Module 5 to 6\n",
    "\n",
    "#Module 6\n",
    "\n",
    "conv_6_1 = SeparableConv2D(filters = 512, kernel_size = 3, activation='relu', padding='same')(upconv_1)\n",
    "conv_6_1_bn = BatchNormalization()(conv_6_1)\n",
    "conv_6_1_do = Dropout(droprate)(conv_6_1_bn)\n",
    "\n",
    "conv_6_2 = SeparableConv2D(filters = 512, kernel_size = 3, activation='relu', padding='same')(conv_6_1_do)\n",
    "conv_6_2_bn = BatchNormalization()(conv_6_2)\n",
    "conv_6_2_do = Dropout(droprate)(conv_6_2_bn)\n",
    "\n",
    "upconv_2 = upconv_concat(conv_6_2_do, conv_3_2_do, n_filter=256, pool_size=2, stride=2) #Module 6 to 7\n",
    "\n",
    "#Module 7\n",
    "\n",
    "conv_7_1 = SeparableConv2D(filters = 256, kernel_size = 3, activation='relu', padding='same')(upconv_2)\n",
    "conv_7_1_bn = BatchNormalization()(conv_7_1)\n",
    "conv_7_1_do = Dropout(droprate)(conv_7_1_bn)\n",
    "\n",
    "conv_7_2 = SeparableConv2D(filters = 256, kernel_size = 3, activation='relu', padding='same')(conv_7_1_do)\n",
    "conv_7_2_bn = BatchNormalization()(conv_7_2)\n",
    "conv_7_2_do = Dropout(droprate)(conv_7_2_bn)\n",
    "\n",
    "upconv_3 = upconv_concat(conv_7_2_do, conv_2_2_do, n_filter=128, pool_size=2, stride=2) #Module 7 to 8\n",
    "\n",
    "#Module 8\n",
    "\n",
    "conv_8_1 = SeparableConv2D(filters = 128, kernel_size = 3, activation='relu', padding='same')(upconv_3)\n",
    "conv_8_1_bn = BatchNormalization()(conv_8_1)\n",
    "conv_8_1_do = Dropout(droprate)(conv_8_1_bn)\n",
    "\n",
    "conv_8_2 = SeparableConv2D(filters = 128, kernel_size = 3, activation='relu', padding='same')(conv_8_1_do)\n",
    "conv_8_2_bn = BatchNormalization()(conv_8_2)\n",
    "conv_8_2_do = Dropout(droprate)(conv_8_2_bn)\n",
    "\n",
    "upconv_4 = upconv_concat(conv_8_2_do, conv_1_2_do, n_filter=64, pool_size=2, stride=2) #Module 8 to 9\n",
    "\n",
    "#Module 9\n",
    "\n",
    "conv_9_1 = SeparableConv2D(filters = 64, kernel_size = 3, activation='relu', padding='same')(upconv_4)\n",
    "conv_9_1_bn = BatchNormalization()(conv_9_1)\n",
    "conv_9_1_do = Dropout(droprate)(conv_9_1_bn)\n",
    "\n",
    "conv_9_2 = SeparableConv2D(filters = 64, kernel_size = 3, activation='relu', padding='same')(conv_9_1_do)\n",
    "conv_9_2_bn = BatchNormalization()(conv_9_2)\n",
    "conv_9_2_do = Dropout(droprate)(conv_9_2_bn)\n",
    "\n",
    "# encoder_output = Custom_Conv()(conv_9_2_do, k_size=1, num_outputs=3, stride=1) \n",
    "\n",
    "final_conv = Conv2D(num_classes, 1, 1)(conv_9_2_do)\n",
    "\n",
    "# we have to apply softmax on all pixels.\n",
    "\n",
    "x = Reshape((num_classes, 224*224))(final_conv) \n",
    "x = Permute((2,1))(x)\n",
    "x = Activation(\"softmax\")(x)\n",
    "\n",
    "# Reshape it agian to feed it to the decoder\n",
    "encoder_output = Reshape((224, 224, num_classes))(x) #Module 9 to 10"
   ]
  },
  {
   "cell_type": "code",
   "execution_count": 19,
   "metadata": {},
   "outputs": [],
   "source": [
    "#Decoder\n",
    "\n",
    "#Module 10\n",
    "\n",
    "conv_10_1 = Conv2D(filters = 64, kernel_size = 3, activation='relu', padding='same')(encoder_output)\n",
    "conv_10_1_bn = BatchNormalization()(conv_10_1)\n",
    "conv_10_1_do = Dropout(droprate)(conv_10_1_bn)\n",
    "\n",
    "conv_10_2 = Conv2D(filters = 64, kernel_size = 3, activation='relu', padding='same')(conv_10_1_do)\n",
    "conv_10_2_bn = BatchNormalization()(conv_10_2)\n",
    "conv_10_2_do = Dropout(droprate)(conv_10_2_bn)\n",
    "\n",
    "pool_5 = MaxPooling2D(pool_size= 2, strides = 2)(conv_10_2_do) #Module 10 to 11\n",
    "\n",
    "#Module 11\n",
    "\n",
    "conv_11_1 = SeparableConv2D(filters = 128, kernel_size = 3, activation='relu', padding='same')(pool_5)\n",
    "conv_11_1_bn = BatchNormalization()(conv_11_1)\n",
    "conv_11_1_do = Dropout(droprate)(conv_11_1_bn)\n",
    "\n",
    "conv_11_2 = SeparableConv2D(filters = 128, kernel_size = 3, activation='relu', padding='same')(conv_11_1_do)\n",
    "conv_11_2_bn = BatchNormalization()(conv_11_2)\n",
    "conv_11_2_do = Dropout(droprate)(conv_11_2_bn)\n",
    "\n",
    "pool_6 = MaxPooling2D(pool_size= 2, strides = 2)(conv_11_2_do) #Module 11 to 12\n",
    "\n",
    "#Module 12\n",
    "\n",
    "conv_12_1 = SeparableConv2D(filters = 256, kernel_size = 3, activation='relu', padding='same')(pool_6)\n",
    "conv_12_1_bn = BatchNormalization()(conv_12_1)\n",
    "conv_12_1_do = Dropout(droprate)(conv_12_1_bn)\n",
    "\n",
    "conv_12_2 = SeparableConv2D(filters = 256, kernel_size = 3, activation='relu', padding='same')(conv_12_1_do)\n",
    "conv_12_2_bn = BatchNormalization()(conv_12_2)\n",
    "conv_12_2_do = Dropout(droprate)(conv_12_2_bn)\n",
    "\n",
    "pool_7 = MaxPooling2D(pool_size= 2, strides = 2)(conv_12_2_do) #Module 12 to 13\n",
    "\n",
    "#Module 13\n",
    "\n",
    "conv_13_1 = SeparableConv2D(filters = 512, kernel_size = 3, activation='relu', padding='same')(pool_7)\n",
    "conv_13_1_bn = BatchNormalization()(conv_13_1)\n",
    "conv_13_1_do = Dropout(droprate)(conv_13_1_bn)\n",
    "\n",
    "conv_13_2 = SeparableConv2D(filters = 512, kernel_size = 3, activation='relu', padding='same')(conv_13_1_do)\n",
    "conv_13_2_bn = BatchNormalization()(conv_13_2)\n",
    "conv_13_2_do = Dropout(droprate)(conv_13_2_bn)\n",
    "\n",
    "pool_8 = MaxPooling2D(pool_size= 2, strides = 2)(conv_13_2_do) #Module 13 to 14\n",
    "\n",
    "#Module 14\n",
    "\n",
    "conv_14_1 = SeparableConv2D(filters = 1024, kernel_size = 3, activation='relu', padding='same')(pool_8)\n",
    "conv_14_1_bn = BatchNormalization()(conv_14_1)\n",
    "conv_14_1_do = Dropout(droprate)(conv_14_1_bn)\n",
    "\n",
    "conv_14_2 = SeparableConv2D(filters = 1024, kernel_size = 3, activation='relu', padding='same')(conv_14_1_do)\n",
    "conv_14_2_bn = BatchNormalization()(conv_14_2)\n",
    "conv_14_2_do = Dropout(droprate)(conv_14_2_bn)\n",
    "\n",
    "upconv_5 = upconv_concat(conv_14_2_do, conv_13_2_do, n_filter=512, pool_size=2, stride=2)  #Module 14 to 15\n",
    "\n",
    "#Module 15\n",
    "\n",
    "conv_15_1 = SeparableConv2D(filters = 512, kernel_size = 3, activation='relu', padding='same')(upconv_5)\n",
    "conv_15_1_bn = BatchNormalization()(conv_15_1)\n",
    "conv_15_1_do = Dropout(droprate)(conv_15_1_bn)\n",
    "\n",
    "conv_15_2 = SeparableConv2D(filters = 512, kernel_size = 3, activation='relu', padding='same')(conv_15_1_do)\n",
    "conv_15_2_bn = BatchNormalization()(conv_15_2)\n",
    "conv_15_2_do = Dropout(droprate)(conv_15_2_bn)\n",
    "\n",
    "upconv_6 = upconv_concat(conv_15_2_do, conv_12_2_do, n_filter=256, pool_size=2, stride=2)  #Module 15 to 16\n",
    "\n",
    "#Module 16\n",
    "\n",
    "conv_16_1 = SeparableConv2D(filters = 256, kernel_size = 3, activation='relu', padding='same')(upconv_6)\n",
    "conv_16_1_bn = BatchNormalization()(conv_16_1)\n",
    "conv_16_1_do = Dropout(droprate)(conv_16_1_bn)\n",
    "\n",
    "conv_16_2 = SeparableConv2D(filters = 256, kernel_size = 3, activation='relu', padding='same')(conv_16_1_do)\n",
    "conv_16_2_bn = BatchNormalization()(conv_16_2)\n",
    "conv_16_2_do = Dropout(droprate)(conv_16_2_bn)\n",
    "\n",
    "upconv_7 = upconv_concat(conv_16_2_do, conv_11_2_do, n_filter=128, pool_size=2, stride=2)  #Module 16 to 17\n",
    "\n",
    "#Module 17\n",
    "\n",
    "conv_17_1 = SeparableConv2D(filters = 128, kernel_size = 3, activation='relu', padding='same')(upconv_7)\n",
    "conv_17_1_bn = BatchNormalization()(conv_17_1)\n",
    "conv_17_1_do = Dropout(droprate)(conv_17_1_bn)\n",
    "\n",
    "conv_17_2 = SeparableConv2D(filters = 128, kernel_size = 3, activation='relu', padding='same')(conv_17_1_do)\n",
    "conv_17_2_bn = BatchNormalization()(conv_17_2)\n",
    "conv_17_2_do = Dropout(droprate)(conv_17_2_bn)\n",
    "\n",
    "upconv_8 = upconv_concat(conv_17_2_do, conv_10_2_do, n_filter=64, pool_size=2, stride=2)  #Module 17 to 18\n",
    "\n",
    "#Module 18\n",
    "\n",
    "conv_18_1 = Conv2D(filters = 64, kernel_size = 3, activation='relu', padding='same')(upconv_8)\n",
    "conv_18_1_bn = BatchNormalization()(conv_18_1)\n",
    "conv_18_1_do = Dropout(droprate)(conv_18_1_bn)\n",
    "\n",
    "conv_18_2 = Conv2D(filters = 64, kernel_size = 3, activation='relu', padding='same')(conv_18_1_do)\n",
    "conv_18_2_bn = BatchNormalization()(conv_18_2)\n",
    "conv_18_2_do = Dropout(droprate)(conv_18_2_bn)\n",
    "\n",
    "decoder_output =  Conv2D(filters = 1, kernel_size = 1, activation='relu', padding='same')(conv_18_2_do)"
   ]
  },
  {
   "cell_type": "markdown",
   "metadata": {},
   "source": [
    "## Encoder Model"
   ]
  },
  {
   "cell_type": "code",
   "execution_count": 20,
   "metadata": {},
   "outputs": [],
   "source": [
    "encoder_model = Model(input_img, encoder_output)"
   ]
  },
  {
   "cell_type": "code",
   "execution_count": 21,
   "metadata": {},
   "outputs": [
    {
     "name": "stdout",
     "output_type": "stream",
     "text": [
      "__________________________________________________________________________________________________\n",
      "Layer (type)                    Output Shape         Param #     Connected to                     \n",
      "==================================================================================================\n",
      "input_2 (InputLayer)            (None, 224, 224, 1)  0                                            \n",
      "__________________________________________________________________________________________________\n",
      "conv2d_8 (Conv2D)               (None, 224, 224, 64) 640         input_2[0][0]                    \n",
      "__________________________________________________________________________________________________\n",
      "batch_normalization_v1_36 (Batc (None, 224, 224, 64) 256         conv2d_8[0][0]                   \n",
      "__________________________________________________________________________________________________\n",
      "dropout_36 (Dropout)            (None, 224, 224, 64) 0           batch_normalization_v1_36[0][0]  \n",
      "__________________________________________________________________________________________________\n",
      "conv2d_9 (Conv2D)               (None, 224, 224, 64) 36928       dropout_36[0][0]                 \n",
      "__________________________________________________________________________________________________\n",
      "batch_normalization_v1_37 (Batc (None, 224, 224, 64) 256         conv2d_9[0][0]                   \n",
      "__________________________________________________________________________________________________\n",
      "dropout_37 (Dropout)            (None, 224, 224, 64) 0           batch_normalization_v1_37[0][0]  \n",
      "__________________________________________________________________________________________________\n",
      "max_pooling2d_8 (MaxPooling2D)  (None, 112, 112, 64) 0           dropout_37[0][0]                 \n",
      "__________________________________________________________________________________________________\n",
      "separable_conv2d_30 (SeparableC (None, 112, 112, 128 8896        max_pooling2d_8[0][0]            \n",
      "__________________________________________________________________________________________________\n",
      "batch_normalization_v1_38 (Batc (None, 112, 112, 128 512         separable_conv2d_30[0][0]        \n",
      "__________________________________________________________________________________________________\n",
      "dropout_38 (Dropout)            (None, 112, 112, 128 0           batch_normalization_v1_38[0][0]  \n",
      "__________________________________________________________________________________________________\n",
      "separable_conv2d_31 (SeparableC (None, 112, 112, 128 17664       dropout_38[0][0]                 \n",
      "__________________________________________________________________________________________________\n",
      "batch_normalization_v1_39 (Batc (None, 112, 112, 128 512         separable_conv2d_31[0][0]        \n",
      "__________________________________________________________________________________________________\n",
      "dropout_39 (Dropout)            (None, 112, 112, 128 0           batch_normalization_v1_39[0][0]  \n",
      "__________________________________________________________________________________________________\n",
      "max_pooling2d_9 (MaxPooling2D)  (None, 56, 56, 128)  0           dropout_39[0][0]                 \n",
      "__________________________________________________________________________________________________\n",
      "separable_conv2d_32 (SeparableC (None, 56, 56, 256)  34176       max_pooling2d_9[0][0]            \n",
      "__________________________________________________________________________________________________\n",
      "batch_normalization_v1_40 (Batc (None, 56, 56, 256)  1024        separable_conv2d_32[0][0]        \n",
      "__________________________________________________________________________________________________\n",
      "dropout_40 (Dropout)            (None, 56, 56, 256)  0           batch_normalization_v1_40[0][0]  \n",
      "__________________________________________________________________________________________________\n",
      "separable_conv2d_33 (SeparableC (None, 56, 56, 256)  68096       dropout_40[0][0]                 \n",
      "__________________________________________________________________________________________________\n",
      "batch_normalization_v1_41 (Batc (None, 56, 56, 256)  1024        separable_conv2d_33[0][0]        \n",
      "__________________________________________________________________________________________________\n",
      "dropout_41 (Dropout)            (None, 56, 56, 256)  0           batch_normalization_v1_41[0][0]  \n",
      "__________________________________________________________________________________________________\n",
      "max_pooling2d_10 (MaxPooling2D) (None, 28, 28, 256)  0           dropout_41[0][0]                 \n",
      "__________________________________________________________________________________________________\n",
      "separable_conv2d_34 (SeparableC (None, 28, 28, 512)  133888      max_pooling2d_10[0][0]           \n",
      "__________________________________________________________________________________________________\n",
      "batch_normalization_v1_42 (Batc (None, 28, 28, 512)  2048        separable_conv2d_34[0][0]        \n",
      "__________________________________________________________________________________________________\n",
      "dropout_42 (Dropout)            (None, 28, 28, 512)  0           batch_normalization_v1_42[0][0]  \n",
      "__________________________________________________________________________________________________\n",
      "separable_conv2d_35 (SeparableC (None, 28, 28, 512)  267264      dropout_42[0][0]                 \n",
      "__________________________________________________________________________________________________\n",
      "batch_normalization_v1_43 (Batc (None, 28, 28, 512)  2048        separable_conv2d_35[0][0]        \n",
      "__________________________________________________________________________________________________\n",
      "dropout_43 (Dropout)            (None, 28, 28, 512)  0           batch_normalization_v1_43[0][0]  \n",
      "__________________________________________________________________________________________________\n",
      "max_pooling2d_11 (MaxPooling2D) (None, 14, 14, 512)  0           dropout_43[0][0]                 \n",
      "__________________________________________________________________________________________________\n",
      "separable_conv2d_36 (SeparableC (None, 14, 14, 1024) 529920      max_pooling2d_11[0][0]           \n",
      "__________________________________________________________________________________________________\n",
      "batch_normalization_v1_44 (Batc (None, 14, 14, 1024) 4096        separable_conv2d_36[0][0]        \n",
      "__________________________________________________________________________________________________\n",
      "dropout_44 (Dropout)            (None, 14, 14, 1024) 0           batch_normalization_v1_44[0][0]  \n",
      "__________________________________________________________________________________________________\n",
      "separable_conv2d_37 (SeparableC (None, 14, 14, 1024) 1058816     dropout_44[0][0]                 \n",
      "__________________________________________________________________________________________________\n",
      "batch_normalization_v1_45 (Batc (None, 14, 14, 1024) 4096        separable_conv2d_37[0][0]        \n",
      "__________________________________________________________________________________________________\n",
      "dropout_45 (Dropout)            (None, 14, 14, 1024) 0           batch_normalization_v1_45[0][0]  \n",
      "__________________________________________________________________________________________________\n",
      "conv2d_transpose_8 (Conv2DTrans (None, 28, 28, 512)  2097664     dropout_45[0][0]                 \n",
      "__________________________________________________________________________________________________\n",
      "concatenate_8 (Concatenate)     (None, 28, 28, 1024) 0           conv2d_transpose_8[0][0]         \n",
      "                                                                 dropout_43[0][0]                 \n",
      "__________________________________________________________________________________________________\n",
      "separable_conv2d_38 (SeparableC (None, 28, 28, 512)  534016      concatenate_8[0][0]              \n",
      "__________________________________________________________________________________________________\n",
      "batch_normalization_v1_46 (Batc (None, 28, 28, 512)  2048        separable_conv2d_38[0][0]        \n",
      "__________________________________________________________________________________________________\n",
      "dropout_46 (Dropout)            (None, 28, 28, 512)  0           batch_normalization_v1_46[0][0]  \n",
      "__________________________________________________________________________________________________\n",
      "separable_conv2d_39 (SeparableC (None, 28, 28, 512)  267264      dropout_46[0][0]                 \n",
      "__________________________________________________________________________________________________\n",
      "batch_normalization_v1_47 (Batc (None, 28, 28, 512)  2048        separable_conv2d_39[0][0]        \n",
      "__________________________________________________________________________________________________\n",
      "dropout_47 (Dropout)            (None, 28, 28, 512)  0           batch_normalization_v1_47[0][0]  \n",
      "__________________________________________________________________________________________________\n",
      "conv2d_transpose_9 (Conv2DTrans (None, 56, 56, 256)  524544      dropout_47[0][0]                 \n",
      "__________________________________________________________________________________________________\n",
      "concatenate_9 (Concatenate)     (None, 56, 56, 512)  0           conv2d_transpose_9[0][0]         \n",
      "                                                                 dropout_41[0][0]                 \n",
      "__________________________________________________________________________________________________\n",
      "separable_conv2d_40 (SeparableC (None, 56, 56, 256)  135936      concatenate_9[0][0]              \n",
      "__________________________________________________________________________________________________\n",
      "batch_normalization_v1_48 (Batc (None, 56, 56, 256)  1024        separable_conv2d_40[0][0]        \n",
      "__________________________________________________________________________________________________\n",
      "dropout_48 (Dropout)            (None, 56, 56, 256)  0           batch_normalization_v1_48[0][0]  \n",
      "__________________________________________________________________________________________________\n",
      "separable_conv2d_41 (SeparableC (None, 56, 56, 256)  68096       dropout_48[0][0]                 \n",
      "__________________________________________________________________________________________________\n",
      "batch_normalization_v1_49 (Batc (None, 56, 56, 256)  1024        separable_conv2d_41[0][0]        \n",
      "__________________________________________________________________________________________________\n",
      "dropout_49 (Dropout)            (None, 56, 56, 256)  0           batch_normalization_v1_49[0][0]  \n",
      "__________________________________________________________________________________________________\n",
      "conv2d_transpose_10 (Conv2DTran (None, 112, 112, 128 131200      dropout_49[0][0]                 \n",
      "__________________________________________________________________________________________________\n",
      "concatenate_10 (Concatenate)    (None, 112, 112, 256 0           conv2d_transpose_10[0][0]        \n",
      "                                                                 dropout_39[0][0]                 \n",
      "__________________________________________________________________________________________________\n",
      "separable_conv2d_42 (SeparableC (None, 112, 112, 128 35200       concatenate_10[0][0]             \n",
      "__________________________________________________________________________________________________\n",
      "batch_normalization_v1_50 (Batc (None, 112, 112, 128 512         separable_conv2d_42[0][0]        \n",
      "__________________________________________________________________________________________________\n",
      "dropout_50 (Dropout)            (None, 112, 112, 128 0           batch_normalization_v1_50[0][0]  \n",
      "__________________________________________________________________________________________________\n",
      "separable_conv2d_43 (SeparableC (None, 112, 112, 128 17664       dropout_50[0][0]                 \n",
      "__________________________________________________________________________________________________\n",
      "batch_normalization_v1_51 (Batc (None, 112, 112, 128 512         separable_conv2d_43[0][0]        \n",
      "__________________________________________________________________________________________________\n",
      "dropout_51 (Dropout)            (None, 112, 112, 128 0           batch_normalization_v1_51[0][0]  \n",
      "__________________________________________________________________________________________________\n",
      "conv2d_transpose_11 (Conv2DTran (None, 224, 224, 64) 32832       dropout_51[0][0]                 \n",
      "__________________________________________________________________________________________________\n",
      "concatenate_11 (Concatenate)    (None, 224, 224, 128 0           conv2d_transpose_11[0][0]        \n",
      "                                                                 dropout_37[0][0]                 \n",
      "__________________________________________________________________________________________________\n",
      "separable_conv2d_44 (SeparableC (None, 224, 224, 64) 9408        concatenate_11[0][0]             \n",
      "__________________________________________________________________________________________________\n",
      "batch_normalization_v1_52 (Batc (None, 224, 224, 64) 256         separable_conv2d_44[0][0]        \n",
      "__________________________________________________________________________________________________\n",
      "dropout_52 (Dropout)            (None, 224, 224, 64) 0           batch_normalization_v1_52[0][0]  \n",
      "__________________________________________________________________________________________________\n",
      "separable_conv2d_45 (SeparableC (None, 224, 224, 64) 4736        dropout_52[0][0]                 \n",
      "__________________________________________________________________________________________________\n",
      "batch_normalization_v1_53 (Batc (None, 224, 224, 64) 256         separable_conv2d_45[0][0]        \n",
      "__________________________________________________________________________________________________\n",
      "dropout_53 (Dropout)            (None, 224, 224, 64) 0           batch_normalization_v1_53[0][0]  \n",
      "__________________________________________________________________________________________________\n",
      "conv2d_10 (Conv2D)              (None, 224, 224, 3)  195         dropout_53[0][0]                 \n",
      "__________________________________________________________________________________________________\n",
      "reshape_2 (Reshape)             (None, 3, 50176)     0           conv2d_10[0][0]                  \n",
      "__________________________________________________________________________________________________\n",
      "permute_1 (Permute)             (None, 50176, 3)     0           reshape_2[0][0]                  \n",
      "__________________________________________________________________________________________________\n",
      "activation_1 (Activation)       (None, 50176, 3)     0           permute_1[0][0]                  \n",
      "__________________________________________________________________________________________________\n",
      "reshape_3 (Reshape)             (None, 224, 224, 3)  0           activation_1[0][0]               \n",
      "==================================================================================================\n",
      "Total params: 6,038,595\n",
      "Trainable params: 6,026,819\n",
      "Non-trainable params: 11,776\n",
      "__________________________________________________________________________________________________\n"
     ]
    }
   ],
   "source": [
    "encoder_model.summary()"
   ]
  },
  {
   "cell_type": "code",
   "execution_count": 22,
   "metadata": {},
   "outputs": [],
   "source": [
    "#parameters for normalized cut loss\n",
    "sigma_pixel = tf.square(tf.constant(10.0))\n",
    "sigma_dist = 4.0 ** 2\n",
    "r = 5 #radius\n",
    "k = tf.constant(num_classes, dtype=tf.float32) #Tensorflow constant which holds the value of num_classes"
   ]
  },
  {
   "cell_type": "code",
   "execution_count": 23,
   "metadata": {},
   "outputs": [],
   "source": [
    "#place holders for encoder model\n",
    "original_image = tf.placeholder(dtype=tf.float32, shape=[None, 224, 224, 1]) #Place holder for holding the input images"
   ]
  },
  {
   "cell_type": "code",
   "execution_count": 24,
   "metadata": {},
   "outputs": [],
   "source": [
    "#Normalized cut loss and optimizer for encoder model\n",
    "\n",
    "#create a spatial kernel\n",
    "\n",
    "s = 2 * r + 1\n",
    "spatial_kernel = np.zeros((s, s), dtype=np.float32)\n",
    "for y in range(s):\n",
    "    for x in range(s):\n",
    "        # calculate squared euclidean distance\n",
    "        dist = (x - r) * (x - r) + (y - r) * (y - r)\n",
    "        if dist < (r * r):\n",
    "            spatial_kernel[y][x] = np.exp((-dist) / sigma_dist)\n",
    "\n",
    "spatial_kernel = tf.constant(spatial_kernel.reshape(-1), dtype=tf.float32)\n",
    "\n",
    "\n",
    "#create one dimensional kernel\n",
    "\n",
    "s = 2 * r + 1\n",
    "one_dim_kernel = np.zeros((s, s, (s * s)))\n",
    "for i in range(s * s):\n",
    "    one_dim_kernel[int(i / s)][i % s][i] = 1.0\n",
    "one_dim_kernel = one_dim_kernel.reshape(s, s, 1, (s * s))\n",
    "one_dim_kernel = tf.constant(one_dim_kernel, dtype=tf.float32)"
   ]
  },
  {
   "cell_type": "code",
   "execution_count": 25,
   "metadata": {},
   "outputs": [],
   "source": [
    "class calc_norm_loss():\n",
    "    def __init__(self):\n",
    "        self.num_sum = tf.constant(0.0, dtype=tf.float32)\n",
    "    def cal_sum(self):\n",
    "        for depth in range(num_classes):\n",
    "            softmax_layer = encoder_model(original_image)[:, :, :, depth:depth + 1] #take each channel of the output image from encoder_model\n",
    "            extracted_pixels = tf.nn.conv2d(softmax_layer, one_dim_kernel, strides=[1, 1, 1, 1], padding='SAME')\n",
    "\n",
    "            intensity_sq_dif = tf.squared_difference(extracted_pixels, softmax_layer)\n",
    "            intensity_values = tf.exp(tf.divide(tf.negative(intensity_sq_dif), sigma_pixel))\n",
    "\n",
    "            weights = tf.multiply(intensity_values, spatial_kernel)\n",
    "            # Reshape Input Softmax Layer for correct dimensions\n",
    "            u_pixels = tf.reshape(softmax_layer, [batch_size, 224, 224])\n",
    "            \n",
    "            # Calculate entire numerator\n",
    "            numerator_inner_sum = tf.reduce_sum(tf.multiply(weights, extracted_pixels), axis=3)\n",
    "            numerator_outer_sum = tf.multiply(u_pixels, numerator_inner_sum)\n",
    "            numerator = tf.reduce_sum(numerator_outer_sum)\n",
    "            \n",
    "            # Calculate denominator\n",
    "            denominator_inner_sum = tf.reduce_sum(weights, axis=3)\n",
    "            denominator_outer_sum = tf.multiply(u_pixels, denominator_inner_sum)\n",
    "            denominator = tf.reduce_sum(denominator_outer_sum)\n",
    "\n",
    "            processed_value = numerator / denominator\n",
    "            self.num_sum += processed_value\n",
    "            return self.num_sum"
   ]
  },
  {
   "cell_type": "code",
   "execution_count": 26,
   "metadata": {},
   "outputs": [],
   "source": [
    "norm_loss = calc_norm_loss() # initialize class\n",
    "norm_cut_loss = k-norm_loss.cal_sum() # final normal cur loss\n",
    "norm_cut_opt = tf.train.AdamOptimizer(learning_rate=enc_lr, beta1=0.9, beta2=0.999).minimize(norm_cut_loss) #optimizer"
   ]
  },
  {
   "cell_type": "code",
   "execution_count": 27,
   "metadata": {},
   "outputs": [],
   "source": [
    "init1 = tf.global_variables_initializer()\n",
    "init2 = tf.local_variables_initializer()"
   ]
  },
  {
   "cell_type": "code",
   "execution_count": 28,
   "metadata": {},
   "outputs": [
    {
     "name": "stdout",
     "output_type": "stream",
     "text": [
      "epoch: 0\n",
      "Train loss after  0 is 2.2314987\n",
      "epoch: 1\n",
      "Train loss after  1 is 2.1926231\n",
      "epoch: 2\n",
      "Train loss after  2 is 2.1331813\n",
      "epoch: 3\n",
      "Train loss after  3 is 2.121163\n",
      "epoch: 4\n",
      "Train loss after  4 is 2.1112661\n",
      "epoch: 5\n",
      "Train loss after  5 is 2.1413946\n",
      "epoch: 6\n",
      "Train loss after  6 is 2.1661139\n",
      "epoch: 7\n",
      "Train loss after  7 is 2.162401\n",
      "epoch: 8\n",
      "Train loss after  8 is 2.162401\n",
      "epoch: 9\n",
      "Train loss after  9 is 2.162401\n"
     ]
    }
   ],
   "source": [
    "# Train encoder model\n",
    "with tf.Session() as sess:\n",
    "    sess.run(init1)\n",
    "    sess.run(init2)\n",
    "    for epoch in range(num_epochs):\n",
    "        print(\"epoch:\", epoch)\n",
    "        count = 0\n",
    "        batch_start_index = 0\n",
    "        while (count != num_batches):\n",
    "            X_train_batch = X_train[batch_start_index : batch_start_index+batch_size] #send a batch of input images of size (batchsize, 224, 224, 1)\n",
    "            _, train_loss = sess.run([norm_cut_opt,norm_cut_loss], feed_dict={original_image: X_train_batch})\n",
    "            batch_start_index+=batch_size\n",
    "            count+=1\n",
    "        print(\"Train loss after \", str(epoch), \"is\", str(train_loss))"
   ]
  },
  {
   "cell_type": "markdown",
   "metadata": {},
   "source": [
    "## Full model"
   ]
  },
  {
   "cell_type": "code",
   "execution_count": 29,
   "metadata": {},
   "outputs": [],
   "source": [
    "# wnet_autoencoder = Model(input_img, decoder_output)"
   ]
  },
  {
   "cell_type": "code",
   "execution_count": 30,
   "metadata": {},
   "outputs": [],
   "source": [
    "# wnet_autoencoder.summary()"
   ]
  },
  {
   "cell_type": "code",
   "execution_count": 31,
   "metadata": {},
   "outputs": [],
   "source": [
    "# #place holders for wnet_autoencoder\n",
    "# input_image = tf.placeholder(dtype=tf.float32, shape=[None, 224, 224, 1])\n",
    "\n",
    "# # Reconstruction loss and loss for autoencoder model\n",
    "# rec_loss = tf.reduce_mean(tf.squared_difference(wnet_autoencoder(input_image), input_image))\n",
    "# rec_opt = tf.train.GradientDescentOptimizer(learning_rate=ae_lr).minimize(rec_loss)\n",
    "\n",
    "# init1 = tf.global_variables_initializer()\n",
    "# init2 = tf.local_variables_initializer()"
   ]
  },
  {
   "cell_type": "code",
   "execution_count": 32,
   "metadata": {},
   "outputs": [],
   "source": [
    "# #train autoencoder\n",
    "# with tf.Session() as sess:\n",
    "#     sess.run(init1)\n",
    "#     sess.run(init2)\n",
    "#     for epoch in range(num_epochs):\n",
    "#         print(\"epoch:\", epoch)\n",
    "#         count = 0\n",
    "#         batch_start_index = 0\n",
    "#         while (count != num_batches):\n",
    "#             X_train_batch = X_train[batch_start_index : batch_start_index+batch_size]\n",
    "#             _, train_loss = sess.run([rec_opt,rec_loss], feed_dict={input_image: X_train_batch})\n",
    "#             batch_start_index+=batch_size\n",
    "#             count+=1\n",
    "#         print(\"Train loss after \", str(epoch), \"is\", str(train_loss))\n",
    "        "
   ]
  },
  {
   "cell_type": "code",
   "execution_count": 33,
   "metadata": {},
   "outputs": [],
   "source": [
    "# Train full Auto-Encoder with keras\n",
    "\n",
    "# with tf.Session() as sess:\n",
    "#     sess.run(init1)\n",
    "#     sess.run(init2)\n",
    "#     wnet_autoencoder.compile(optimizer='adagrad', loss='mean_squared_error')\n",
    "#     history = wnet_autoencoder.fit(X_train, X_train,\n",
    "#                     epochs=5,\n",
    "#                     batch_size=8,\n",
    "#                     shuffle=True,\n",
    "#                     validation_data=(X_val, X_val)).history"
   ]
  },
  {
   "cell_type": "code",
   "execution_count": 34,
   "metadata": {},
   "outputs": [],
   "source": [
    "# Train Encoder with keras. \n",
    "\n",
    "# with tf.Session() as sess:\n",
    "#     sess.run(init1)\n",
    "#     sess.run(init2)\n",
    "#     encoder_model.compile(optimizer='adagrad', loss='sparse_categorical_crossentropy')\n",
    "#     history = encoder_model.fit(X_train, X_train,\n",
    "#                     epochs=5,\n",
    "#                     batch_size=8,\n",
    "#                     shuffle=True,\n",
    "#                     validation_data=(X_val, X_val)).history"
   ]
  },
  {
   "cell_type": "code",
   "execution_count": 35,
   "metadata": {},
   "outputs": [],
   "source": [
    "#Plot graph for train_loss vs val_loss for keras training\n",
    "\n",
    "# plt.plot(history['loss'], linewidth=2, label='Train')\n",
    "# plt.plot(history['val_loss'], linewidth=2, label='Test')\n",
    "# plt.legend(loc='upper right')\n",
    "# plt.title('Model loss')\n",
    "# plt.ylabel('Loss')\n",
    "# plt.xlabel('Epoch')\n",
    "# # plt.show()"
   ]
  },
  {
   "cell_type": "markdown",
   "metadata": {},
   "source": [
    "## Testing the Resutls"
   ]
  },
  {
   "cell_type": "code",
   "execution_count": 36,
   "metadata": {},
   "outputs": [
    {
     "name": "stdout",
     "output_type": "stream",
     "text": [
      "(224, 224, 1)\n",
      "(1, 224, 224, 1)\n"
     ]
    }
   ],
   "source": [
    "#Load a test image and preprocess it.\n",
    "\n",
    "img = cv2.imread('../input/test-dataset/a184.jpg') #input a test image that the model did not see.\n",
    "img = cv2.cvtColor(img,cv2.COLOR_BGR2GRAY)\n",
    "resized = cv2.resize(img, (224,224), interpolation = cv2.INTER_AREA)\n",
    "resized = resized/255\n",
    "resized1 = resized[:, :, np.newaxis]\n",
    "print(resized1.shape)\n",
    "resized1 = resized1[np.newaxis, :, :] \n",
    "print(resized1.shape) #resize it to make it fir for inputting to model"
   ]
  },
  {
   "cell_type": "code",
   "execution_count": 37,
   "metadata": {},
   "outputs": [],
   "source": [
    "init1 = tf.global_variables_initializer()\n",
    "init2 = tf.local_variables_initializer()"
   ]
  },
  {
   "cell_type": "code",
   "execution_count": 38,
   "metadata": {},
   "outputs": [],
   "source": [
    "#Test Encoder model\n",
    "with tf.Session() as sess:\n",
    "    sess.run(init1)\n",
    "    sess.run(init2)\n",
    "    img3 = encoder_model.predict(resized1) #predict the segmentation scores for each class"
   ]
  },
  {
   "cell_type": "code",
   "execution_count": 39,
   "metadata": {},
   "outputs": [
    {
     "data": {
      "text/plain": [
       "array([[[[0.3332509 , 0.33345374, 0.33329532],\n",
       "         [0.33326158, 0.33347115, 0.3332673 ],\n",
       "         [0.33326244, 0.3334136 , 0.33332396],\n",
       "         ...,\n",
       "         [0.3333026 , 0.3332917 , 0.3334057 ],\n",
       "         [0.33331716, 0.33331317, 0.33336964],\n",
       "         [0.33332247, 0.333333  , 0.33334452]],\n",
       "\n",
       "        [[0.33330008, 0.33330008, 0.33339977],\n",
       "         [0.33331496, 0.33331496, 0.33337012],\n",
       "         [0.33332843, 0.33332843, 0.33334315],\n",
       "         ...,\n",
       "         [0.3333229 , 0.33336565, 0.3333114 ],\n",
       "         [0.33332908, 0.33334723, 0.3333237 ],\n",
       "         [0.3333058 , 0.33337453, 0.33331963]],\n",
       "\n",
       "        [[0.3333201 , 0.3333598 , 0.3333201 ],\n",
       "         [0.3333274 , 0.3333452 , 0.3333274 ],\n",
       "         [0.33330908, 0.33338183, 0.33330908],\n",
       "         ...,\n",
       "         [0.33324456, 0.3334736 , 0.33328184],\n",
       "         [0.3332937 , 0.33340475, 0.33330154],\n",
       "         [0.33326918, 0.33338907, 0.33334172]],\n",
       "\n",
       "        ...,\n",
       "\n",
       "        [[0.3334702 , 0.33328697, 0.33324283],\n",
       "         [0.33345273, 0.3332794 , 0.33326787],\n",
       "         [0.33335343, 0.33335117, 0.3332954 ],\n",
       "         ...,\n",
       "         [0.33329034, 0.33340862, 0.33330104],\n",
       "         [0.33331445, 0.33336762, 0.33331794],\n",
       "         [0.3333331 , 0.3333444 , 0.33332244]],\n",
       "\n",
       "        [[0.33329827, 0.33340347, 0.33329827],\n",
       "         [0.33331585, 0.3333683 , 0.33331585],\n",
       "         [0.33332717, 0.33334565, 0.33332717],\n",
       "         ...,\n",
       "         [0.33336106, 0.33331394, 0.33332503],\n",
       "         [0.3333451 , 0.33332473, 0.33333018],\n",
       "         [0.333374  , 0.33331996, 0.33330607]],\n",
       "\n",
       "        [[0.33335322, 0.3333234 , 0.3333234 ],\n",
       "         [0.33334264, 0.3333287 , 0.3333287 ],\n",
       "         [0.33338565, 0.33330718, 0.33330718],\n",
       "         ...,\n",
       "         [0.33347154, 0.33328518, 0.33324325],\n",
       "         [0.33344802, 0.3332797 , 0.33327228],\n",
       "         [0.33340928, 0.33333078, 0.33325994]]]], dtype=float32)"
      ]
     },
     "execution_count": 39,
     "metadata": {},
     "output_type": "execute_result"
    }
   ],
   "source": [
    "img3 #output image"
   ]
  },
  {
   "cell_type": "code",
   "execution_count": 40,
   "metadata": {},
   "outputs": [
    {
     "name": "stdout",
     "output_type": "stream",
     "text": [
      "(1, 224, 224, 3)\n"
     ]
    }
   ],
   "source": [
    "print(img3.shape)"
   ]
  },
  {
   "cell_type": "code",
   "execution_count": 41,
   "metadata": {},
   "outputs": [
    {
     "data": {
      "text/plain": [
       "<matplotlib.image.AxesImage at 0x7f97923f8cc0>"
      ]
     },
     "execution_count": 41,
     "metadata": {},
     "output_type": "execute_result"
    },
    {
     "data": {
      "image/png": "[encoded data removed]",
      "text/plain": [
       "<Figure size 432x288 with 1 Axes>"
      ]
     },
     "metadata": {},
     "output_type": "display_data"
    }
   ],
   "source": [
    "img3 = np.reshape(img3, (224,224,3)) #reshape to show the image\n",
    "plt.imshow(img3)"
   ]
  },
  {
   "cell_type": "code",
   "execution_count": 42,
   "metadata": {},
   "outputs": [
    {
     "data": {
      "text/plain": [
       "1.0"
      ]
     },
     "execution_count": 42,
     "metadata": {},
     "output_type": "execute_result"
    }
   ],
   "source": [
    "img3[0][0][0] + img3[0][0][1] + img3[0][0][2] #sum of probabilities of classes should be equal to 1 because we used softmax."
   ]
  },
  {
   "cell_type": "code",
   "execution_count": null,
   "metadata": {},
   "outputs": [],
   "source": [
    "output_image_copy = img3.copy()\n",
    "\n",
    "output_image_copy[:, :, 2] = 0\n",
    "output_image_copy[:, :, 0] = 0\n",
    "\n",
    "#output_image_copy = output_image_copy*255\n",
    "plt.imshow(output_image_copy)"
   ]
  }
 ],
 "metadata": {
  "kernelspec": {
   "display_name": "Python 3",
   "language": "python",
   "name": "python3"
  },
  "language_info": {
   "codemirror_mode": {
    "name": "ipython",
    "version": 3
   },
   "file_extension": ".py",
   "mimetype": "text/x-python",
   "name": "python",
   "nbconvert_exporter": "python",
   "pygments_lexer": "ipython3",
   "version": "3.5.2"
  }
 },
 "nbformat": 4,
 "nbformat_minor": 1
}
